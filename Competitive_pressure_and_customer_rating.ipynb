{
 "cells": [
  {
   "cell_type": "markdown",
   "metadata": {},
   "source": [
    "### Step 1: Get a list of restaurant"
   ]
  },
  {
   "cell_type": "code",
   "execution_count": 1,
   "metadata": {},
   "outputs": [],
   "source": [
    "import requests # library to handle requests\n",
    "import pandas as pd # library for data analsysis\n",
    "import numpy as np # library to handle data in a vectorized manner\n",
    "import random # library for random number generation\n",
    "from pandas.io.json import json_normalize"
   ]
  },
  {
   "cell_type": "code",
   "execution_count": 3,
   "metadata": {},
   "outputs": [],
   "source": [
    "CLIENT_ID = '???' # deleted\n",
    "CLIENT_SECRET = '???'  # deleted\n",
    "VERSION = '20181013'\n",
    "LIMIT = 50 # this is the max that one can get each time\n",
    "search_query = 'restaurant'\n",
    "radius =5000"
   ]
  },
  {
   "cell_type": "code",
   "execution_count": 24,
   "metadata": {},
   "outputs": [
    {
     "name": "stdout",
     "output_type": "stream",
     "text": [
      "(50, 3)\n"
     ]
    },
    {
     "data": {
      "text/html": [
       "<div>\n",
       "<style scoped>\n",
       "    .dataframe tbody tr th:only-of-type {\n",
       "        vertical-align: middle;\n",
       "    }\n",
       "\n",
       "    .dataframe tbody tr th {\n",
       "        vertical-align: top;\n",
       "    }\n",
       "\n",
       "    .dataframe thead th {\n",
       "        text-align: right;\n",
       "    }\n",
       "</style>\n",
       "<table border=\"1\" class=\"dataframe\">\n",
       "  <thead>\n",
       "    <tr style=\"text-align: right;\">\n",
       "      <th></th>\n",
       "      <th>id</th>\n",
       "      <th>location.lat</th>\n",
       "      <th>location.lng</th>\n",
       "    </tr>\n",
       "  </thead>\n",
       "  <tbody>\n",
       "    <tr>\n",
       "      <th>0</th>\n",
       "      <td>4e4ddf73bd4101d0d79d3e37</td>\n",
       "      <td>40.878259</td>\n",
       "      <td>-73.903043</td>\n",
       "    </tr>\n",
       "    <tr>\n",
       "      <th>1</th>\n",
       "      <td>4baedf9ff964a520c0de3be3</td>\n",
       "      <td>40.873414</td>\n",
       "      <td>-73.889195</td>\n",
       "    </tr>\n",
       "    <tr>\n",
       "      <th>2</th>\n",
       "      <td>4c6aebf4599fbe9a3282913f</td>\n",
       "      <td>40.867358</td>\n",
       "      <td>-73.897623</td>\n",
       "    </tr>\n",
       "    <tr>\n",
       "      <th>3</th>\n",
       "      <td>4b403740f964a520e8b625e3</td>\n",
       "      <td>40.868588</td>\n",
       "      <td>-73.902104</td>\n",
       "    </tr>\n",
       "    <tr>\n",
       "      <th>4</th>\n",
       "      <td>4e4d0392bd413c4cc66dfde5</td>\n",
       "      <td>40.869020</td>\n",
       "      <td>-73.895990</td>\n",
       "    </tr>\n",
       "  </tbody>\n",
       "</table>\n",
       "</div>"
      ],
      "text/plain": [
       "                         id  location.lat  location.lng\n",
       "0  4e4ddf73bd4101d0d79d3e37     40.878259    -73.903043\n",
       "1  4baedf9ff964a520c0de3be3     40.873414    -73.889195\n",
       "2  4c6aebf4599fbe9a3282913f     40.867358    -73.897623\n",
       "3  4b403740f964a520e8b625e3     40.868588    -73.902104\n",
       "4  4e4d0392bd413c4cc66dfde5     40.869020    -73.895990"
      ]
     },
     "execution_count": 24,
     "metadata": {},
     "output_type": "execute_result"
    }
   ],
   "source": [
    "# list 1 from Marble Hill in NY\n",
    "latitude = 40.876551\n",
    "longitude = -73.910660\n",
    "url = 'https://api.foursquare.com/v2/venues/search?client_id={}&client_secret={}&ll={},{}&v={}&query={}&radius={}&limit={}'.format(CLIENT_ID, CLIENT_SECRET, latitude, longitude, VERSION, search_query, radius, LIMIT)\n",
    "results = requests.get(url).json()\n",
    "venues = results['response']['venues']\n",
    "restaurant_list_1 = json_normalize(venues)[['id', 'location.lat', 'location.lng']]\n",
    "print(restaurant_list_1.shape)\n",
    "restaurant_list_1.head()"
   ]
  },
  {
   "cell_type": "code",
   "execution_count": 25,
   "metadata": {
    "scrolled": true
   },
   "outputs": [
    {
     "name": "stdout",
     "output_type": "stream",
     "text": [
      "(50, 3)\n"
     ]
    },
    {
     "data": {
      "text/html": [
       "<div>\n",
       "<style scoped>\n",
       "    .dataframe tbody tr th:only-of-type {\n",
       "        vertical-align: middle;\n",
       "    }\n",
       "\n",
       "    .dataframe tbody tr th {\n",
       "        vertical-align: top;\n",
       "    }\n",
       "\n",
       "    .dataframe thead th {\n",
       "        text-align: right;\n",
       "    }\n",
       "</style>\n",
       "<table border=\"1\" class=\"dataframe\">\n",
       "  <thead>\n",
       "    <tr style=\"text-align: right;\">\n",
       "      <th></th>\n",
       "      <th>id</th>\n",
       "      <th>location.lat</th>\n",
       "      <th>location.lng</th>\n",
       "    </tr>\n",
       "  </thead>\n",
       "  <tbody>\n",
       "    <tr>\n",
       "      <th>0</th>\n",
       "      <td>49f23c80f964a520116a1fe3</td>\n",
       "      <td>40.847303</td>\n",
       "      <td>-73.938158</td>\n",
       "    </tr>\n",
       "    <tr>\n",
       "      <th>1</th>\n",
       "      <td>4bedb6b1767dc9b6045cd3e9</td>\n",
       "      <td>40.846680</td>\n",
       "      <td>-73.935487</td>\n",
       "    </tr>\n",
       "    <tr>\n",
       "      <th>2</th>\n",
       "      <td>4c5a1c706407d13ac80bb428</td>\n",
       "      <td>40.855959</td>\n",
       "      <td>-73.928878</td>\n",
       "    </tr>\n",
       "    <tr>\n",
       "      <th>3</th>\n",
       "      <td>4d377465d60c6dcb5d046ebc</td>\n",
       "      <td>40.844216</td>\n",
       "      <td>-73.937567</td>\n",
       "    </tr>\n",
       "    <tr>\n",
       "      <th>4</th>\n",
       "      <td>4bdcc53e03be20a1c7b2849b</td>\n",
       "      <td>40.851332</td>\n",
       "      <td>-73.931864</td>\n",
       "    </tr>\n",
       "  </tbody>\n",
       "</table>\n",
       "</div>"
      ],
      "text/plain": [
       "                         id  location.lat  location.lng\n",
       "0  49f23c80f964a520116a1fe3     40.847303    -73.938158\n",
       "1  4bedb6b1767dc9b6045cd3e9     40.846680    -73.935487\n",
       "2  4c5a1c706407d13ac80bb428     40.855959    -73.928878\n",
       "3  4d377465d60c6dcb5d046ebc     40.844216    -73.937567\n",
       "4  4bdcc53e03be20a1c7b2849b     40.851332    -73.931864"
      ]
     },
     "execution_count": 25,
     "metadata": {},
     "output_type": "execute_result"
    }
   ],
   "source": [
    "# list 2 from Washington Heights in NY\n",
    "latitude = 40.851903\n",
    "longitude = -73.936900\n",
    "url = 'https://api.foursquare.com/v2/venues/search?client_id={}&client_secret={}&ll={},{}&v={}&query={}&radius={}&limit={}'.format(CLIENT_ID, CLIENT_SECRET, latitude, longitude, VERSION, search_query, radius, LIMIT)\n",
    "results = requests.get(url).json()\n",
    "venues = results['response']['venues']\n",
    "restaurant_list_2 = json_normalize(venues)[['id', 'location.lat', 'location.lng']]\n",
    "print(restaurant_list_2.shape)\n",
    "restaurant_list_2.head()"
   ]
  },
  {
   "cell_type": "code",
   "execution_count": 26,
   "metadata": {},
   "outputs": [
    {
     "name": "stdout",
     "output_type": "stream",
     "text": [
      "(50, 3)\n"
     ]
    },
    {
     "data": {
      "text/html": [
       "<div>\n",
       "<style scoped>\n",
       "    .dataframe tbody tr th:only-of-type {\n",
       "        vertical-align: middle;\n",
       "    }\n",
       "\n",
       "    .dataframe tbody tr th {\n",
       "        vertical-align: top;\n",
       "    }\n",
       "\n",
       "    .dataframe thead th {\n",
       "        text-align: right;\n",
       "    }\n",
       "</style>\n",
       "<table border=\"1\" class=\"dataframe\">\n",
       "  <thead>\n",
       "    <tr style=\"text-align: right;\">\n",
       "      <th></th>\n",
       "      <th>id</th>\n",
       "      <th>location.lat</th>\n",
       "      <th>location.lng</th>\n",
       "    </tr>\n",
       "  </thead>\n",
       "  <tbody>\n",
       "    <tr>\n",
       "      <th>0</th>\n",
       "      <td>4e4e4d33bd4101d0d7a734d4</td>\n",
       "      <td>40.819280</td>\n",
       "      <td>-73.940821</td>\n",
       "    </tr>\n",
       "    <tr>\n",
       "      <th>1</th>\n",
       "      <td>4d12b5be80f6721e86dd19eb</td>\n",
       "      <td>40.821571</td>\n",
       "      <td>-73.942878</td>\n",
       "    </tr>\n",
       "    <tr>\n",
       "      <th>2</th>\n",
       "      <td>4ad22304f964a5209bdf20e3</td>\n",
       "      <td>40.819390</td>\n",
       "      <td>-73.944440</td>\n",
       "    </tr>\n",
       "    <tr>\n",
       "      <th>3</th>\n",
       "      <td>3fd66200f964a52069e81ee3</td>\n",
       "      <td>40.808705</td>\n",
       "      <td>-73.944725</td>\n",
       "    </tr>\n",
       "    <tr>\n",
       "      <th>4</th>\n",
       "      <td>4a6a3991f964a520e0cc1fe3</td>\n",
       "      <td>40.810219</td>\n",
       "      <td>-73.943755</td>\n",
       "    </tr>\n",
       "  </tbody>\n",
       "</table>\n",
       "</div>"
      ],
      "text/plain": [
       "                         id  location.lat  location.lng\n",
       "0  4e4e4d33bd4101d0d7a734d4     40.819280    -73.940821\n",
       "1  4d12b5be80f6721e86dd19eb     40.821571    -73.942878\n",
       "2  4ad22304f964a5209bdf20e3     40.819390    -73.944440\n",
       "3  3fd66200f964a52069e81ee3     40.808705    -73.944725\n",
       "4  4a6a3991f964a520e0cc1fe3     40.810219    -73.943755"
      ]
     },
     "execution_count": 26,
     "metadata": {},
     "output_type": "execute_result"
    }
   ],
   "source": [
    "# list 3 from Washington Hamilton Heights in NY\n",
    "latitude = 40.823604\n",
    "longitude = -73.949688\n",
    "url = 'https://api.foursquare.com/v2/venues/search?client_id={}&client_secret={}&ll={},{}&v={}&query={}&radius={}&limit={}'.format(CLIENT_ID, CLIENT_SECRET, latitude, longitude, VERSION, search_query, radius, LIMIT)\n",
    "results = requests.get(url).json()\n",
    "venues = results['response']['venues']\n",
    "restaurant_list_3 = json_normalize(venues)[['id', 'location.lat', 'location.lng']]\n",
    "print(restaurant_list_3.shape)\n",
    "restaurant_list_3.head()"
   ]
  },
  {
   "cell_type": "code",
   "execution_count": 27,
   "metadata": {},
   "outputs": [],
   "source": [
    "# save all datasets into csv files\n",
    "restaurant_list_1.to_csv('restaurant_list_1.csv')\n",
    "restaurant_list_2.to_csv('restaurant_list_2.csv')\n",
    "restaurant_list_3.to_csv('restaurant_list_3.csv')"
   ]
  },
  {
   "cell_type": "code",
   "execution_count": 30,
   "metadata": {},
   "outputs": [
    {
     "name": "stdout",
     "output_type": "stream",
     "text": [
      "(150, 3)\n"
     ]
    }
   ],
   "source": [
    "restaurant_list = restaurant_list_1.append(restaurant_list_2).append(restaurant_list_3)\n",
    "print(restaurant_list.shape)\n",
    "restaurant_list.to_csv('restaurant_list.csv')"
   ]
  },
  {
   "cell_type": "markdown",
   "metadata": {},
   "source": [
    "### Step 2: Get Rating for the selected restaurant"
   ]
  },
  {
   "cell_type": "code",
   "execution_count": 2,
   "metadata": {},
   "outputs": [
    {
     "data": {
      "text/html": [
       "<div>\n",
       "<style scoped>\n",
       "    .dataframe tbody tr th:only-of-type {\n",
       "        vertical-align: middle;\n",
       "    }\n",
       "\n",
       "    .dataframe tbody tr th {\n",
       "        vertical-align: top;\n",
       "    }\n",
       "\n",
       "    .dataframe thead th {\n",
       "        text-align: right;\n",
       "    }\n",
       "</style>\n",
       "<table border=\"1\" class=\"dataframe\">\n",
       "  <thead>\n",
       "    <tr style=\"text-align: right;\">\n",
       "      <th></th>\n",
       "      <th>Unnamed: 0</th>\n",
       "      <th>id</th>\n",
       "      <th>location.lat</th>\n",
       "      <th>location.lng</th>\n",
       "    </tr>\n",
       "  </thead>\n",
       "  <tbody>\n",
       "    <tr>\n",
       "      <th>0</th>\n",
       "      <td>0</td>\n",
       "      <td>4e4ddf73bd4101d0d79d3e37</td>\n",
       "      <td>40.878259</td>\n",
       "      <td>-73.903043</td>\n",
       "    </tr>\n",
       "    <tr>\n",
       "      <th>1</th>\n",
       "      <td>1</td>\n",
       "      <td>4baedf9ff964a520c0de3be3</td>\n",
       "      <td>40.873414</td>\n",
       "      <td>-73.889195</td>\n",
       "    </tr>\n",
       "    <tr>\n",
       "      <th>2</th>\n",
       "      <td>2</td>\n",
       "      <td>4c6aebf4599fbe9a3282913f</td>\n",
       "      <td>40.867358</td>\n",
       "      <td>-73.897623</td>\n",
       "    </tr>\n",
       "    <tr>\n",
       "      <th>3</th>\n",
       "      <td>3</td>\n",
       "      <td>4b403740f964a520e8b625e3</td>\n",
       "      <td>40.868588</td>\n",
       "      <td>-73.902104</td>\n",
       "    </tr>\n",
       "    <tr>\n",
       "      <th>4</th>\n",
       "      <td>4</td>\n",
       "      <td>4e4d0392bd413c4cc66dfde5</td>\n",
       "      <td>40.869020</td>\n",
       "      <td>-73.895990</td>\n",
       "    </tr>\n",
       "  </tbody>\n",
       "</table>\n",
       "</div>"
      ],
      "text/plain": [
       "   Unnamed: 0                        id  location.lat  location.lng\n",
       "0           0  4e4ddf73bd4101d0d79d3e37     40.878259    -73.903043\n",
       "1           1  4baedf9ff964a520c0de3be3     40.873414    -73.889195\n",
       "2           2  4c6aebf4599fbe9a3282913f     40.867358    -73.897623\n",
       "3           3  4b403740f964a520e8b625e3     40.868588    -73.902104\n",
       "4           4  4e4d0392bd413c4cc66dfde5     40.869020    -73.895990"
      ]
     },
     "execution_count": 2,
     "metadata": {},
     "output_type": "execute_result"
    }
   ],
   "source": [
    "restaurant_list = pd.read_csv('restaurant_list.csv')\n",
    "restaurant_list.head()"
   ]
  },
  {
   "cell_type": "code",
   "execution_count": 8,
   "metadata": {},
   "outputs": [],
   "source": [
    "# create a function to get the rating for each restaurant ID\n",
    "# then apply this function to a list of IDs\n",
    "# if the rating is not available, then return 0\n",
    "def get_rating(id):\n",
    "    venue_id = id\n",
    "    url = 'https://api.foursquare.com/v2/venues/{}?client_id={}&client_secret={}&v={}'.format(venue_id, CLIENT_ID, CLIENT_SECRET, VERSION)\n",
    "    result = requests.get(url).json()\n",
    "    try:\n",
    "        rating = result['response']['venue']['rating']\n",
    "    except:\n",
    "        rating = 0\n",
    "    return rating"
   ]
  },
  {
   "cell_type": "code",
   "execution_count": 18,
   "metadata": {
    "collapsed": true
   },
   "outputs": [
    {
     "data": {
      "text/plain": [
       "[0,\n",
       " 7.4,\n",
       " 7.5,\n",
       " 7.2,\n",
       " 0,\n",
       " 0,\n",
       " 0,\n",
       " 0,\n",
       " 7.7,\n",
       " 7.2,\n",
       " 0,\n",
       " 6.2,\n",
       " 5.8,\n",
       " 0,\n",
       " 0,\n",
       " 0,\n",
       " 6.2,\n",
       " 6.7,\n",
       " 6.9,\n",
       " 8.4,\n",
       " 0,\n",
       " 6.6,\n",
       " 0,\n",
       " 0,\n",
       " 0,\n",
       " 7.0,\n",
       " 0,\n",
       " 6.9,\n",
       " 8.1,\n",
       " 5.2,\n",
       " 0,\n",
       " 8.4,\n",
       " 0,\n",
       " 0,\n",
       " 8.2,\n",
       " 0,\n",
       " 8.1,\n",
       " 5.5,\n",
       " 6.0,\n",
       " 6.6,\n",
       " 7.7,\n",
       " 0,\n",
       " 0,\n",
       " 0,\n",
       " 0,\n",
       " 0,\n",
       " 0,\n",
       " 0,\n",
       " 0,\n",
       " 0]"
      ]
     },
     "execution_count": 18,
     "metadata": {},
     "output_type": "execute_result"
    }
   ],
   "source": [
    "ratings = [get_rating(restaurant) for restaurant in restaurant_list['id'].tolist()]\n",
    "ratings[0:50]"
   ]
  },
  {
   "cell_type": "markdown",
   "metadata": {},
   "source": [
    "### Step 3: Get the number of restaurant nearby"
   ]
  },
  {
   "cell_type": "code",
   "execution_count": 21,
   "metadata": {},
   "outputs": [],
   "source": [
    "# create a function to get the number of restaurants within 500 metres of a given location\n",
    "# then apply this function to a list of locations.\n",
    "def get_rivals(location):\n",
    "    latitude = location[0]\n",
    "    longitude = location[1]\n",
    "    radius = 500\n",
    "    url = 'https://api.foursquare.com/v2/venues/search?client_id={}&client_secret={}&ll={},{}&v={}&query={}&radius={}&limit={}'.format(CLIENT_ID, CLIENT_SECRET, latitude, longitude, VERSION, search_query, radius, LIMIT)\n",
    "    results = requests.get(url).json()\n",
    "    venues = results['response']['venues']\n",
    "    restaurant_list = json_normalize(venues)[['id', 'location.lat', 'location.lng']]\n",
    "    return restaurant_list.shape[0]"
   ]
  },
  {
   "cell_type": "code",
   "execution_count": 25,
   "metadata": {
    "collapsed": true
   },
   "outputs": [
    {
     "data": {
      "text/plain": [
       "[24,\n",
       " 19,\n",
       " 31,\n",
       " 24,\n",
       " 26,\n",
       " 24,\n",
       " 22,\n",
       " 25,\n",
       " 25,\n",
       " 19,\n",
       " 31,\n",
       " 16,\n",
       " 33,\n",
       " 24,\n",
       " 16,\n",
       " 31,\n",
       " 41,\n",
       " 23,\n",
       " 14,\n",
       " 42,\n",
       " 16,\n",
       " 39,\n",
       " 36,\n",
       " 30,\n",
       " 17,\n",
       " 47,\n",
       " 38,\n",
       " 49,\n",
       " 15,\n",
       " 8,\n",
       " 19,\n",
       " 16,\n",
       " 46,\n",
       " 39,\n",
       " 18,\n",
       " 34,\n",
       " 24,\n",
       " 10,\n",
       " 7,\n",
       " 25,\n",
       " 50,\n",
       " 37,\n",
       " 43,\n",
       " 28,\n",
       " 38,\n",
       " 16,\n",
       " 50,\n",
       " 42,\n",
       " 25,\n",
       " 6]"
      ]
     },
     "execution_count": 25,
     "metadata": {},
     "output_type": "execute_result"
    }
   ],
   "source": [
    "rivals = [get_rivals(location) for location in restaurant_list[['location.lat', 'location.lng']].values.tolist()]\n",
    "rivals[0:50]"
   ]
  },
  {
   "cell_type": "markdown",
   "metadata": {},
   "source": [
    "### Step 4: Merge all information into a single dataset"
   ]
  },
  {
   "cell_type": "code",
   "execution_count": 32,
   "metadata": {},
   "outputs": [
    {
     "data": {
      "text/html": [
       "<div>\n",
       "<style scoped>\n",
       "    .dataframe tbody tr th:only-of-type {\n",
       "        vertical-align: middle;\n",
       "    }\n",
       "\n",
       "    .dataframe tbody tr th {\n",
       "        vertical-align: top;\n",
       "    }\n",
       "\n",
       "    .dataframe thead th {\n",
       "        text-align: right;\n",
       "    }\n",
       "</style>\n",
       "<table border=\"1\" class=\"dataframe\">\n",
       "  <thead>\n",
       "    <tr style=\"text-align: right;\">\n",
       "      <th></th>\n",
       "      <th>id</th>\n",
       "      <th>location.lat</th>\n",
       "      <th>location.lng</th>\n",
       "      <th>rating</th>\n",
       "      <th>rival</th>\n",
       "    </tr>\n",
       "  </thead>\n",
       "  <tbody>\n",
       "    <tr>\n",
       "      <th>0</th>\n",
       "      <td>4e4ddf73bd4101d0d79d3e37</td>\n",
       "      <td>40.878259</td>\n",
       "      <td>-73.903043</td>\n",
       "      <td>0.0</td>\n",
       "      <td>24</td>\n",
       "    </tr>\n",
       "    <tr>\n",
       "      <th>1</th>\n",
       "      <td>4baedf9ff964a520c0de3be3</td>\n",
       "      <td>40.873414</td>\n",
       "      <td>-73.889195</td>\n",
       "      <td>7.4</td>\n",
       "      <td>19</td>\n",
       "    </tr>\n",
       "    <tr>\n",
       "      <th>2</th>\n",
       "      <td>4c6aebf4599fbe9a3282913f</td>\n",
       "      <td>40.867358</td>\n",
       "      <td>-73.897623</td>\n",
       "      <td>7.5</td>\n",
       "      <td>31</td>\n",
       "    </tr>\n",
       "    <tr>\n",
       "      <th>3</th>\n",
       "      <td>4b403740f964a520e8b625e3</td>\n",
       "      <td>40.868588</td>\n",
       "      <td>-73.902104</td>\n",
       "      <td>7.2</td>\n",
       "      <td>24</td>\n",
       "    </tr>\n",
       "    <tr>\n",
       "      <th>4</th>\n",
       "      <td>4e4d0392bd413c4cc66dfde5</td>\n",
       "      <td>40.869020</td>\n",
       "      <td>-73.895990</td>\n",
       "      <td>0.0</td>\n",
       "      <td>26</td>\n",
       "    </tr>\n",
       "  </tbody>\n",
       "</table>\n",
       "</div>"
      ],
      "text/plain": [
       "                         id  location.lat  location.lng  rating  rival\n",
       "0  4e4ddf73bd4101d0d79d3e37     40.878259    -73.903043     0.0     24\n",
       "1  4baedf9ff964a520c0de3be3     40.873414    -73.889195     7.4     19\n",
       "2  4c6aebf4599fbe9a3282913f     40.867358    -73.897623     7.5     31\n",
       "3  4b403740f964a520e8b625e3     40.868588    -73.902104     7.2     24\n",
       "4  4e4d0392bd413c4cc66dfde5     40.869020    -73.895990     0.0     26"
      ]
     },
     "execution_count": 32,
     "metadata": {},
     "output_type": "execute_result"
    }
   ],
   "source": [
    "restaurant = restaurant_list[['id', 'location.lat', 'location.lng']].copy()\n",
    "restaurant['rating'] = ratings\n",
    "restaurant['rival'] = rivals\n",
    "restaurant.to_csv('restaurant.csv')\n",
    "restaurant.head()"
   ]
  },
  {
   "cell_type": "markdown",
   "metadata": {},
   "source": [
    "### Step 5: Explore relationship between competitive pressure and customer rating"
   ]
  },
  {
   "cell_type": "code",
   "execution_count": 2,
   "metadata": {},
   "outputs": [],
   "source": [
    "import matplotlib.pyplot as plt"
   ]
  },
  {
   "cell_type": "code",
   "execution_count": 3,
   "metadata": {},
   "outputs": [],
   "source": [
    "restaurant = pd.read_csv('restaurant.csv')"
   ]
  },
  {
   "cell_type": "markdown",
   "metadata": {},
   "source": [
    "#### 5.1 Check the distribution of the number of rivals."
   ]
  },
  {
   "cell_type": "code",
   "execution_count": 4,
   "metadata": {
    "scrolled": true
   },
   "outputs": [
    {
     "data": {
      "text/plain": [
       "(array([ 6., 31., 38., 42., 33.]),\n",
       " array([ 0, 10, 20, 30, 40, 50]),\n",
       " <a list of 5 Patch objects>)"
      ]
     },
     "execution_count": 4,
     "metadata": {},
     "output_type": "execute_result"
    },
    {
     "data": {
      "image/png": "[encoded data removed]",
      "text/plain": [
       "<Figure size 432x288 with 1 Axes>"
      ]
     },
     "metadata": {},
     "output_type": "display_data"
    }
   ],
   "source": [
    "plt.hist(restaurant['rival'], bins = [0, 10, 20, 30, 40, 50])"
   ]
  },
  {
   "cell_type": "markdown",
   "metadata": {},
   "source": [
    "The histogram above shows that most restaurants are surrouned by 20 - 40 restaurants within 500 meters."
   ]
  },
  {
   "cell_type": "markdown",
   "metadata": {},
   "source": [
    "#### 5.2 Check the distribution of ratings."
   ]
  },
  {
   "cell_type": "code",
   "execution_count": 5,
   "metadata": {
    "scrolled": false
   },
   "outputs": [
    {
     "data": {
      "text/plain": [
       "(array([127.,   0.,   0.,   0.,   0.,   3.,   8.,   7.,   5.]),\n",
       " array([0, 1, 2, 3, 4, 5, 6, 7, 8, 9]),\n",
       " <a list of 9 Patch objects>)"
      ]
     },
     "execution_count": 5,
     "metadata": {},
     "output_type": "execute_result"
    },
    {
     "data": {
      "image/png": "[encoded data removed]",
      "text/plain": [
       "<Figure size 432x288 with 1 Axes>"
      ]
     },
     "metadata": {},
     "output_type": "display_data"
    }
   ],
   "source": [
    "plt.hist(restaurant['rating'], bins = range(0, 10))"
   ]
  },
  {
   "cell_type": "markdown",
   "metadata": {},
   "source": [
    "Most of the restaurants (127 out of 150) have no rating. The remaining have ratings range from 5 to 8.5."
   ]
  },
  {
   "cell_type": "markdown",
   "metadata": {},
   "source": [
    "#### 5.3 For those without rating, check the relationship between probability of no rating and the number of rivals."
   ]
  },
  {
   "cell_type": "code",
   "execution_count": 6,
   "metadata": {
    "scrolled": true
   },
   "outputs": [
    {
     "name": "stdout",
     "output_type": "stream",
     "text": [
      "[0.66666667 0.74193548 0.86842105 0.92857143 0.84848485]\n",
      "[ 0. 10. 20. 30. 40. 50.]\n"
     ]
    },
    {
     "data": {
      "text/plain": [
       "Text(0.5,1,'Probability of zero rating')"
      ]
     },
     "execution_count": 6,
     "metadata": {},
     "output_type": "execute_result"
    },
    {
     "data": {
      "image/png": "[encoded data removed]",
      "text/plain": [
       "<Figure size 432x288 with 1 Axes>"
      ]
     },
     "metadata": {},
     "output_type": "display_data"
    }
   ],
   "source": [
    "hist_1, edges = np.histogram(\n",
    "    restaurant['rival'][restaurant['rating'] == 0],\n",
    "    bins=5,\n",
    "    range=(0, 50),\n",
    "    density=False)\n",
    "\n",
    "hist_2, edges = np.histogram(\n",
    "    restaurant['rival'],\n",
    "    bins=5,\n",
    "    range=(0, 50),\n",
    "    density=False)\n",
    "\n",
    "print(hist_1/hist_2)\n",
    "print(edges)\n",
    "\n",
    "plt.bar([0,1,2,3,4], hist_1/hist_2, align='center', alpha=0.5)\n",
    "plt.xticks([0,1,2,3,4], ('0-10', '11-20', '21-30', '31-40', '41-50'))\n",
    "plt.title('Probability of zero rating')\n"
   ]
  },
  {
   "cell_type": "markdown",
   "metadata": {},
   "source": [
    "This histogram shows that when a restaurant are surrounded by more other restaurants, it is more likely to have no rating."
   ]
  },
  {
   "cell_type": "markdown",
   "metadata": {},
   "source": [
    "#### 5.4 For those with ratings, find the linear relationship between ratings and the number of rivals."
   ]
  },
  {
   "cell_type": "code",
   "execution_count": 10,
   "metadata": {},
   "outputs": [
    {
     "data": {
      "image/png": "[encoded data removed]",
      "text/plain": [
       "<Figure size 432x288 with 1 Axes>"
      ]
     },
     "metadata": {},
     "output_type": "display_data"
    }
   ],
   "source": [
    "import seaborn as sns\n",
    "sns.regplot(x=\"rival\", y=\"rating\", data=restaurant.loc[restaurant['rating'] != 0]);"
   ]
  },
  {
   "cell_type": "markdown",
   "metadata": {},
   "source": [
    "This histogram shows that, conditional on positive ratings, when a restaurant are surrounded by more other restaurants, it is more likely to have higher rating."
   ]
  }
 ],
 "metadata": {
  "kernelspec": {
   "display_name": "Python 3",
   "language": "python",
   "name": "python3"
  },
  "language_info": {
   "codemirror_mode": {
    "name": "ipython",
    "version": 3
   },
   "file_extension": ".py",
   "mimetype": "text/x-python",
   "name": "python",
   "nbconvert_exporter": "python",
   "pygments_lexer": "ipython3",
   "version": "3.6.5"
  }
 },
 "nbformat": 4,
 "nbformat_minor": 2
}
